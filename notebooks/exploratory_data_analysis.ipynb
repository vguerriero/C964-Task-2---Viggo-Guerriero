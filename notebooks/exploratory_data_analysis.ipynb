# Exploratory Data Analysis Notebook

import pandas as pd
import seaborn as sns
import matplotlib.pyplot as plt

# Load the data
df = pd.read_csv('../data/cleaned/cleaned_data.csv')

# Display the first few rows
df.head()

# Summary statistics
df.describe()

# Correlation matrix
corr = df.corr()
sns.heatmap(corr, annot=True, fmt=".2f")
plt.show()

# Distribution of target variable
sns.histplot(df['SalePrice'], kde=True)
plt.show()

# Scatter plot of some features vs SalePrice
sns.scatterplot(data=df, x='GrLivArea', y='SalePrice')
plt.show()
