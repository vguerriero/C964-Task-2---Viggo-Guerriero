# In Jupyter Notebook
import pandas as pd
import matplotlib.pyplot as plt
import seaborn as sns

# Load cleaned dataset
df = pd.read_csv('../data/cleaned/cleaned_data.csv')

# Histogram
plt.figure(figsize=(10, 6))
sns.histplot(df['price'], bins=30, kde=True)
plt.title('Distribution of House Prices')
plt.show()

# Scatter Plot
plt.figure(figsize=(10, 6))
sns.scatterplot(x='size', y='price', data=df)
plt.title('Price vs. Size')
plt.show()

# Box Plot
plt.figure(figsize=(10, 6))
sns.boxplot(x='number_of_rooms', y='price', data=df)
plt.title('Price vs. Number of Rooms')
plt.show()

