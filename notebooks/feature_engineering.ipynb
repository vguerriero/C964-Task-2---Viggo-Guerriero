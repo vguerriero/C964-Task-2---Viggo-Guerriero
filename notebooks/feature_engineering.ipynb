# In Jupyter Notebook
import pandas as pd

# Load cleaned dataset
df = pd.read_csv('../data/cleaned/cleaned_data.csv')

# Create new feature
df['price_per_sqft'] = df['price'] / df['size']
df.to_csv('../data/cleaned/cleaned_data_with_features.csv', index=False)

