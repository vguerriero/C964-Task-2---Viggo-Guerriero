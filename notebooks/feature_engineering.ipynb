# Feature Engineering Notebook

import pandas as pd
from sklearn.preprocessing import StandardScaler

# Load the data
df = pd.read_csv('../data/cleaned/cleaned_data.csv')

# Feature engineering example
df['TotalSF'] = df['TotalBsmtSF'] + df['1stFlrSF'] + df['2ndFlrSF']

# Standardize features
scaler = StandardScaler()
numerical_features = ['TotalSF', 'GrLivArea']
df[numerical_features] = scaler.fit_transform(df[numerical_features])

# Save the modified dataset
df.to_csv('../data/cleaned/engineered_data.csv', index=False)
