# Feature Engineering Notebook

import pandas as pd
from sklearn.preprocessing import StandardScaler

# Load the data
df = pd.read_csv('../data/cleaned/cleaned_data.csv')

# Feature engineering example
df['price_per_sqft'] = df['price'] / df['house_size']

# Standardize features
scaler = StandardScaler()
numerical_features = ['price_per_sqft', 'house_size', 'bed', 'bath', 'acre_lot']
df[numerical_features] = scaler.fit_transform(df[numerical_features])

# Save the modified dataset
df.to_csv('../data/cleaned/engineered_data.csv', index=False)
