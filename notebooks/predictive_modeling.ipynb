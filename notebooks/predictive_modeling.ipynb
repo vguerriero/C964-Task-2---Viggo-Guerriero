# Predictive Modeling Notebook

import pandas as pd
from sklearn.model_selection import train_test_split
from sklearn.linear_model import LinearRegression
from sklearn.metrics import mean_squared_error
import joblib

# Load the data
df = pd.read_csv('../data/cleaned/engineered_data.csv')

# Define features and target
X = df[['price_per_sqft', 'house_size', 'bed', 'bath', 'acre_lot']]
y = df['price']

# Split the data
X_train, X_test, y_train, y_test = train_test_split(X, y, test_size=0.2, random_state=42)

# Train the model
model = LinearRegression()
model.fit(X_train, y_train)

# Evaluate the model
y_pred = model.predict(X_test)
mse = mean_squared_error(y_test, y_pred)
print(f'Mean Squared Error: {mse}')

# Save the model
joblib.dump(model, '../models/house_price_model.pkl')
